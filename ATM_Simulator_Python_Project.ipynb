{
 "cells": [
  {
   "cell_type": "markdown",
   "id": "0009a64d",
   "metadata": {},
   "source": [
    "balance=10000\n",
    "User->enter pin number\n",
    "\n",
    "1)Balance\n",
    "2)Withdraw\n",
    "3)Deposit\n",
    "4)Exit"
   ]
  },
  {
   "cell_type": "code",
   "execution_count": 1,
   "id": "28dd2fc5",
   "metadata": {},
   "outputs": [
    {
     "name": "stdout",
     "output_type": "stream",
     "text": [
      "***welcome to ATM Machine***\n",
      "Enter your pin:12345\n",
      "select your Transaction from the above options: 2\n",
      "Enter amount:11000\n",
      "Insufficient Balance\n"
     ]
    }
   ],
   "source": [
    "def atm_display():\n",
    "    print(\"***welcome to ATM Machine***\")\n",
    "atm_display()\n",
    "\n",
    "def atm_simulation():    \n",
    "    balance=10000\n",
    "    pin=int(input(\"Enter your pin:\"   ))\n",
    "    choose=int(input('select your Transaction from the above options: '))\n",
    "    \n",
    "   \n",
    "    if choose==1:\n",
    "        print(f'Available A/C Balance is{balance}')\n",
    "        \n",
    "    elif choose==2:\n",
    "        withdraw=int(input(\"Enter amount:\"))\n",
    "        if withdraw<=balance:\n",
    "            balance=balance-withdraw\n",
    "            print(f\"Your available balance is{balance}\")\n",
    "        else:\n",
    "            print(\"Insufficient Balance\")\n",
    "            \n",
    "    elif choose==3:\n",
    "        amount=int(input(\"Enter amount: \"))\n",
    "        balance=balance+amount\n",
    "        print(f'New Balance is{balance}')\n",
    "        \n",
    "    elif choose==4:\n",
    "        exit()\n",
    "        \n",
    "    else:\n",
    "        print(\"No selected Transaction\")\n",
    "        \n",
    "    return \n",
    "         \n",
    "\n",
    "atm_simulation()\n",
    "\n",
    "    \n",
    "      \n",
    "    \n",
    "    "
   ]
  },
  {
   "cell_type": "code",
   "execution_count": null,
   "id": "d607c5c1",
   "metadata": {},
   "outputs": [],
   "source": []
  }
 ],
 "metadata": {
  "kernelspec": {
   "display_name": "Python 3 (ipykernel)",
   "language": "python",
   "name": "python3"
  },
  "language_info": {
   "codemirror_mode": {
    "name": "ipython",
    "version": 3
   },
   "file_extension": ".py",
   "mimetype": "text/x-python",
   "name": "python",
   "nbconvert_exporter": "python",
   "pygments_lexer": "ipython3",
   "version": "3.11.5"
  }
 },
 "nbformat": 4,
 "nbformat_minor": 5
}
